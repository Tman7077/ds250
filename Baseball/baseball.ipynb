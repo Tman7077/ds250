{
 "cells": [
  {
   "cell_type": "markdown",
   "id": "c0dc526e",
   "metadata": {},
   "source": [
    "# Setup"
   ]
  },
  {
   "cell_type": "code",
   "execution_count": 2,
   "id": "9e0974ed",
   "metadata": {},
   "outputs": [],
   "source": [
    "from lets_plot import *\n",
    "import pandas as pd\n",
    "import sqlite3 as sql"
   ]
  },
  {
   "cell_type": "code",
   "execution_count": 3,
   "id": "e1cc815c",
   "metadata": {},
   "outputs": [],
   "source": [
    "db = sql.connect('lahmansbaseballdb.sqlite')"
   ]
  },
  {
   "cell_type": "code",
   "execution_count": 4,
   "id": "96d205c9",
   "metadata": {},
   "outputs": [],
   "source": [
    "q0 = '''\n",
    "select *\n",
    "from allstarfull\n",
    "limit 5\n",
    "'''"
   ]
  },
  {
   "cell_type": "code",
   "execution_count": 5,
   "id": "07f781da",
   "metadata": {},
   "outputs": [
    {
     "data": {
      "application/vnd.microsoft.datawrangler.viewer.v0+json": {
       "columns": [
        {
         "name": "index",
         "rawType": "int64",
         "type": "integer"
        },
        {
         "name": "ID",
         "rawType": "int64",
         "type": "integer"
        },
        {
         "name": "playerID",
         "rawType": "object",
         "type": "string"
        },
        {
         "name": "yearID",
         "rawType": "int64",
         "type": "integer"
        },
        {
         "name": "gameNum",
         "rawType": "int64",
         "type": "integer"
        },
        {
         "name": "gameID",
         "rawType": "object",
         "type": "string"
        },
        {
         "name": "teamID",
         "rawType": "object",
         "type": "string"
        },
        {
         "name": "team_ID",
         "rawType": "int64",
         "type": "integer"
        },
        {
         "name": "lgID",
         "rawType": "object",
         "type": "string"
        },
        {
         "name": "GP",
         "rawType": "int64",
         "type": "integer"
        },
        {
         "name": "startingPos",
         "rawType": "int64",
         "type": "integer"
        }
       ],
       "conversionMethod": "pd.DataFrame",
       "ref": "24c359f7-4f66-49fc-b54c-93e28318ae48",
       "rows": [
        [
         "0",
         "1",
         "gomezle01",
         "1933",
         "0",
         "ALS193307060",
         "NYA",
         "921",
         "AL",
         "1",
         "1"
        ],
        [
         "1",
         "2",
         "ferreri01",
         "1933",
         "0",
         "ALS193307060",
         "BOS",
         "912",
         "AL",
         "1",
         "2"
        ],
        [
         "2",
         "3",
         "gehrilo01",
         "1933",
         "0",
         "ALS193307060",
         "NYA",
         "921",
         "AL",
         "1",
         "3"
        ],
        [
         "3",
         "4",
         "gehrich01",
         "1933",
         "0",
         "ALS193307060",
         "DET",
         "919",
         "AL",
         "1",
         "4"
        ],
        [
         "4",
         "5",
         "dykesji01",
         "1933",
         "0",
         "ALS193307060",
         "CHA",
         "915",
         "AL",
         "1",
         "5"
        ]
       ],
       "shape": {
        "columns": 10,
        "rows": 5
       }
      },
      "text/html": [
       "<div>\n",
       "<style scoped>\n",
       "    .dataframe tbody tr th:only-of-type {\n",
       "        vertical-align: middle;\n",
       "    }\n",
       "\n",
       "    .dataframe tbody tr th {\n",
       "        vertical-align: top;\n",
       "    }\n",
       "\n",
       "    .dataframe thead th {\n",
       "        text-align: right;\n",
       "    }\n",
       "</style>\n",
       "<table border=\"1\" class=\"dataframe\">\n",
       "  <thead>\n",
       "    <tr style=\"text-align: right;\">\n",
       "      <th></th>\n",
       "      <th>ID</th>\n",
       "      <th>playerID</th>\n",
       "      <th>yearID</th>\n",
       "      <th>gameNum</th>\n",
       "      <th>gameID</th>\n",
       "      <th>teamID</th>\n",
       "      <th>team_ID</th>\n",
       "      <th>lgID</th>\n",
       "      <th>GP</th>\n",
       "      <th>startingPos</th>\n",
       "    </tr>\n",
       "  </thead>\n",
       "  <tbody>\n",
       "    <tr>\n",
       "      <th>0</th>\n",
       "      <td>1</td>\n",
       "      <td>gomezle01</td>\n",
       "      <td>1933</td>\n",
       "      <td>0</td>\n",
       "      <td>ALS193307060</td>\n",
       "      <td>NYA</td>\n",
       "      <td>921</td>\n",
       "      <td>AL</td>\n",
       "      <td>1</td>\n",
       "      <td>1</td>\n",
       "    </tr>\n",
       "    <tr>\n",
       "      <th>1</th>\n",
       "      <td>2</td>\n",
       "      <td>ferreri01</td>\n",
       "      <td>1933</td>\n",
       "      <td>0</td>\n",
       "      <td>ALS193307060</td>\n",
       "      <td>BOS</td>\n",
       "      <td>912</td>\n",
       "      <td>AL</td>\n",
       "      <td>1</td>\n",
       "      <td>2</td>\n",
       "    </tr>\n",
       "    <tr>\n",
       "      <th>2</th>\n",
       "      <td>3</td>\n",
       "      <td>gehrilo01</td>\n",
       "      <td>1933</td>\n",
       "      <td>0</td>\n",
       "      <td>ALS193307060</td>\n",
       "      <td>NYA</td>\n",
       "      <td>921</td>\n",
       "      <td>AL</td>\n",
       "      <td>1</td>\n",
       "      <td>3</td>\n",
       "    </tr>\n",
       "    <tr>\n",
       "      <th>3</th>\n",
       "      <td>4</td>\n",
       "      <td>gehrich01</td>\n",
       "      <td>1933</td>\n",
       "      <td>0</td>\n",
       "      <td>ALS193307060</td>\n",
       "      <td>DET</td>\n",
       "      <td>919</td>\n",
       "      <td>AL</td>\n",
       "      <td>1</td>\n",
       "      <td>4</td>\n",
       "    </tr>\n",
       "    <tr>\n",
       "      <th>4</th>\n",
       "      <td>5</td>\n",
       "      <td>dykesji01</td>\n",
       "      <td>1933</td>\n",
       "      <td>0</td>\n",
       "      <td>ALS193307060</td>\n",
       "      <td>CHA</td>\n",
       "      <td>915</td>\n",
       "      <td>AL</td>\n",
       "      <td>1</td>\n",
       "      <td>5</td>\n",
       "    </tr>\n",
       "  </tbody>\n",
       "</table>\n",
       "</div>"
      ],
      "text/plain": [
       "   ID   playerID  yearID  gameNum        gameID teamID  team_ID lgID  GP  \\\n",
       "0   1  gomezle01    1933        0  ALS193307060    NYA      921   AL   1   \n",
       "1   2  ferreri01    1933        0  ALS193307060    BOS      912   AL   1   \n",
       "2   3  gehrilo01    1933        0  ALS193307060    NYA      921   AL   1   \n",
       "3   4  gehrich01    1933        0  ALS193307060    DET      919   AL   1   \n",
       "4   5  dykesji01    1933        0  ALS193307060    CHA      915   AL   1   \n",
       "\n",
       "   startingPos  \n",
       "0            1  \n",
       "1            2  \n",
       "2            3  \n",
       "3            4  \n",
       "4            5  "
      ]
     },
     "execution_count": 5,
     "metadata": {},
     "output_type": "execute_result"
    }
   ],
   "source": [
    "pd.read_sql_query(q0,db)"
   ]
  },
  {
   "cell_type": "markdown",
   "id": "d05e0d3e",
   "metadata": {},
   "source": [
    "# Q1"
   ]
  },
  {
   "cell_type": "code",
   "execution_count": 7,
   "id": "87fc5323",
   "metadata": {},
   "outputs": [],
   "source": [
    "q1 = '''\n",
    "select distinct cp.playerID, cp.schoolID, sal.salary, sal.yearID, sal.teamID\n",
    "from collegeplaying cp\n",
    "join schools sch on cp.schoolID = sch.schoolID\n",
    "join salaries sal on cp.playerID = sal.playerID\n",
    "where sch.schoolID = 'idbyuid'\n",
    "order by sal.salary desc;\n",
    "'''"
   ]
  },
  {
   "cell_type": "code",
   "execution_count": 8,
   "id": "6cb6cdbc",
   "metadata": {},
   "outputs": [
    {
     "data": {
      "application/vnd.microsoft.datawrangler.viewer.v0+json": {
       "columns": [
        {
         "name": "index",
         "rawType": "int64",
         "type": "integer"
        },
        {
         "name": "playerID",
         "rawType": "object",
         "type": "string"
        },
        {
         "name": "schoolID",
         "rawType": "object",
         "type": "string"
        },
        {
         "name": "salary",
         "rawType": "float64",
         "type": "float"
        },
        {
         "name": "yearID",
         "rawType": "int64",
         "type": "integer"
        },
        {
         "name": "teamID",
         "rawType": "object",
         "type": "string"
        }
       ],
       "conversionMethod": "pd.DataFrame",
       "ref": "c9cdd6b7-c844-4fec-9ad0-6be5d5e9ac75",
       "rows": [
        [
         "0",
         "lindsma01",
         "idbyuid",
         "4000000.0",
         "2014",
         "CHA"
        ],
        [
         "1",
         "lindsma01",
         "idbyuid",
         "3600000.0",
         "2012",
         "BAL"
        ],
        [
         "2",
         "lindsma01",
         "idbyuid",
         "2800000.0",
         "2011",
         "COL"
        ],
        [
         "3",
         "lindsma01",
         "idbyuid",
         "2300000.0",
         "2013",
         "CHA"
        ],
        [
         "4",
         "lindsma01",
         "idbyuid",
         "1625000.0",
         "2010",
         "HOU"
        ],
        [
         "5",
         "stephga01",
         "idbyuid",
         "1025000.0",
         "2001",
         "SLN"
        ],
        [
         "6",
         "stephga01",
         "idbyuid",
         "900000.0",
         "2002",
         "SLN"
        ],
        [
         "7",
         "stephga01",
         "idbyuid",
         "800000.0",
         "2003",
         "SLN"
        ],
        [
         "8",
         "stephga01",
         "idbyuid",
         "550000.0",
         "2000",
         "SLN"
        ],
        [
         "9",
         "lindsma01",
         "idbyuid",
         "410000.0",
         "2009",
         "FLO"
        ],
        [
         "10",
         "lindsma01",
         "idbyuid",
         "395000.0",
         "2008",
         "FLO"
        ],
        [
         "11",
         "lindsma01",
         "idbyuid",
         "380000.0",
         "2007",
         "FLO"
        ],
        [
         "12",
         "stephga01",
         "idbyuid",
         "215000.0",
         "1999",
         "SLN"
        ],
        [
         "13",
         "stephga01",
         "idbyuid",
         "185000.0",
         "1998",
         "PHI"
        ],
        [
         "14",
         "stephga01",
         "idbyuid",
         "150000.0",
         "1997",
         "PHI"
        ]
       ],
       "shape": {
        "columns": 5,
        "rows": 15
       }
      },
      "text/html": [
       "<div>\n",
       "<style scoped>\n",
       "    .dataframe tbody tr th:only-of-type {\n",
       "        vertical-align: middle;\n",
       "    }\n",
       "\n",
       "    .dataframe tbody tr th {\n",
       "        vertical-align: top;\n",
       "    }\n",
       "\n",
       "    .dataframe thead th {\n",
       "        text-align: right;\n",
       "    }\n",
       "</style>\n",
       "<table border=\"1\" class=\"dataframe\">\n",
       "  <thead>\n",
       "    <tr style=\"text-align: right;\">\n",
       "      <th></th>\n",
       "      <th>playerID</th>\n",
       "      <th>schoolID</th>\n",
       "      <th>salary</th>\n",
       "      <th>yearID</th>\n",
       "      <th>teamID</th>\n",
       "    </tr>\n",
       "  </thead>\n",
       "  <tbody>\n",
       "    <tr>\n",
       "      <th>0</th>\n",
       "      <td>lindsma01</td>\n",
       "      <td>idbyuid</td>\n",
       "      <td>4000000.0</td>\n",
       "      <td>2014</td>\n",
       "      <td>CHA</td>\n",
       "    </tr>\n",
       "    <tr>\n",
       "      <th>1</th>\n",
       "      <td>lindsma01</td>\n",
       "      <td>idbyuid</td>\n",
       "      <td>3600000.0</td>\n",
       "      <td>2012</td>\n",
       "      <td>BAL</td>\n",
       "    </tr>\n",
       "    <tr>\n",
       "      <th>2</th>\n",
       "      <td>lindsma01</td>\n",
       "      <td>idbyuid</td>\n",
       "      <td>2800000.0</td>\n",
       "      <td>2011</td>\n",
       "      <td>COL</td>\n",
       "    </tr>\n",
       "    <tr>\n",
       "      <th>3</th>\n",
       "      <td>lindsma01</td>\n",
       "      <td>idbyuid</td>\n",
       "      <td>2300000.0</td>\n",
       "      <td>2013</td>\n",
       "      <td>CHA</td>\n",
       "    </tr>\n",
       "    <tr>\n",
       "      <th>4</th>\n",
       "      <td>lindsma01</td>\n",
       "      <td>idbyuid</td>\n",
       "      <td>1625000.0</td>\n",
       "      <td>2010</td>\n",
       "      <td>HOU</td>\n",
       "    </tr>\n",
       "    <tr>\n",
       "      <th>5</th>\n",
       "      <td>stephga01</td>\n",
       "      <td>idbyuid</td>\n",
       "      <td>1025000.0</td>\n",
       "      <td>2001</td>\n",
       "      <td>SLN</td>\n",
       "    </tr>\n",
       "    <tr>\n",
       "      <th>6</th>\n",
       "      <td>stephga01</td>\n",
       "      <td>idbyuid</td>\n",
       "      <td>900000.0</td>\n",
       "      <td>2002</td>\n",
       "      <td>SLN</td>\n",
       "    </tr>\n",
       "    <tr>\n",
       "      <th>7</th>\n",
       "      <td>stephga01</td>\n",
       "      <td>idbyuid</td>\n",
       "      <td>800000.0</td>\n",
       "      <td>2003</td>\n",
       "      <td>SLN</td>\n",
       "    </tr>\n",
       "    <tr>\n",
       "      <th>8</th>\n",
       "      <td>stephga01</td>\n",
       "      <td>idbyuid</td>\n",
       "      <td>550000.0</td>\n",
       "      <td>2000</td>\n",
       "      <td>SLN</td>\n",
       "    </tr>\n",
       "    <tr>\n",
       "      <th>9</th>\n",
       "      <td>lindsma01</td>\n",
       "      <td>idbyuid</td>\n",
       "      <td>410000.0</td>\n",
       "      <td>2009</td>\n",
       "      <td>FLO</td>\n",
       "    </tr>\n",
       "    <tr>\n",
       "      <th>10</th>\n",
       "      <td>lindsma01</td>\n",
       "      <td>idbyuid</td>\n",
       "      <td>395000.0</td>\n",
       "      <td>2008</td>\n",
       "      <td>FLO</td>\n",
       "    </tr>\n",
       "    <tr>\n",
       "      <th>11</th>\n",
       "      <td>lindsma01</td>\n",
       "      <td>idbyuid</td>\n",
       "      <td>380000.0</td>\n",
       "      <td>2007</td>\n",
       "      <td>FLO</td>\n",
       "    </tr>\n",
       "    <tr>\n",
       "      <th>12</th>\n",
       "      <td>stephga01</td>\n",
       "      <td>idbyuid</td>\n",
       "      <td>215000.0</td>\n",
       "      <td>1999</td>\n",
       "      <td>SLN</td>\n",
       "    </tr>\n",
       "    <tr>\n",
       "      <th>13</th>\n",
       "      <td>stephga01</td>\n",
       "      <td>idbyuid</td>\n",
       "      <td>185000.0</td>\n",
       "      <td>1998</td>\n",
       "      <td>PHI</td>\n",
       "    </tr>\n",
       "    <tr>\n",
       "      <th>14</th>\n",
       "      <td>stephga01</td>\n",
       "      <td>idbyuid</td>\n",
       "      <td>150000.0</td>\n",
       "      <td>1997</td>\n",
       "      <td>PHI</td>\n",
       "    </tr>\n",
       "  </tbody>\n",
       "</table>\n",
       "</div>"
      ],
      "text/plain": [
       "     playerID schoolID     salary  yearID teamID\n",
       "0   lindsma01  idbyuid  4000000.0    2014    CHA\n",
       "1   lindsma01  idbyuid  3600000.0    2012    BAL\n",
       "2   lindsma01  idbyuid  2800000.0    2011    COL\n",
       "3   lindsma01  idbyuid  2300000.0    2013    CHA\n",
       "4   lindsma01  idbyuid  1625000.0    2010    HOU\n",
       "5   stephga01  idbyuid  1025000.0    2001    SLN\n",
       "6   stephga01  idbyuid   900000.0    2002    SLN\n",
       "7   stephga01  idbyuid   800000.0    2003    SLN\n",
       "8   stephga01  idbyuid   550000.0    2000    SLN\n",
       "9   lindsma01  idbyuid   410000.0    2009    FLO\n",
       "10  lindsma01  idbyuid   395000.0    2008    FLO\n",
       "11  lindsma01  idbyuid   380000.0    2007    FLO\n",
       "12  stephga01  idbyuid   215000.0    1999    SLN\n",
       "13  stephga01  idbyuid   185000.0    1998    PHI\n",
       "14  stephga01  idbyuid   150000.0    1997    PHI"
      ]
     },
     "execution_count": 8,
     "metadata": {},
     "output_type": "execute_result"
    }
   ],
   "source": [
    "pd.read_sql_query(q1, db)"
   ]
  },
  {
   "cell_type": "markdown",
   "id": "a4d03f21",
   "metadata": {},
   "source": [
    "# Q2"
   ]
  },
  {
   "cell_type": "code",
   "execution_count": 4,
   "id": "f5e3260d",
   "metadata": {},
   "outputs": [],
   "source": [
    "q2_1 = '''\n",
    "select playerID, yearID, round(cast(H as float) / AB, 3) as batting_average\n",
    "from batting\n",
    "where AB > 0\n",
    "order by batting_average desc, playerID asc\n",
    "limit 5;\n",
    "'''"
   ]
  },
  {
   "cell_type": "code",
   "execution_count": 28,
   "id": "9c53d052",
   "metadata": {},
   "outputs": [],
   "source": [
    "# Just checking that the first few people do actually have a 100% batting average: 1/1=1, so yes.\n",
    "# pd.read_sql_query(\"select playerID, yearID, AB, H from batting where AB > 0 and playerID in ('aberal01', 'abernte02', 'abramge01')\", db)"
   ]
  },
  {
   "cell_type": "code",
   "execution_count": 31,
   "id": "11b853d1",
   "metadata": {},
   "outputs": [
    {
     "data": {
      "application/vnd.microsoft.datawrangler.viewer.v0+json": {
       "columns": [
        {
         "name": "index",
         "rawType": "int64",
         "type": "integer"
        },
        {
         "name": "playerID",
         "rawType": "object",
         "type": "string"
        },
        {
         "name": "yearID",
         "rawType": "int64",
         "type": "integer"
        },
        {
         "name": "batting_average",
         "rawType": "float64",
         "type": "float"
        }
       ],
       "conversionMethod": "pd.DataFrame",
       "ref": "c7f27292-25b7-40b0-8767-06894b2afad7",
       "rows": [
        [
         "0",
         "aberal01",
         "1957",
         "1.0"
        ],
        [
         "1",
         "abernte02",
         "1960",
         "1.0"
        ],
        [
         "2",
         "abramge01",
         "1923",
         "1.0"
        ],
        [
         "3",
         "acklefr01",
         "1964",
         "1.0"
        ],
        [
         "4",
         "alanirj01",
         "2019",
         "1.0"
        ]
       ],
       "shape": {
        "columns": 3,
        "rows": 5
       }
      },
      "text/html": [
       "<div>\n",
       "<style scoped>\n",
       "    .dataframe tbody tr th:only-of-type {\n",
       "        vertical-align: middle;\n",
       "    }\n",
       "\n",
       "    .dataframe tbody tr th {\n",
       "        vertical-align: top;\n",
       "    }\n",
       "\n",
       "    .dataframe thead th {\n",
       "        text-align: right;\n",
       "    }\n",
       "</style>\n",
       "<table border=\"1\" class=\"dataframe\">\n",
       "  <thead>\n",
       "    <tr style=\"text-align: right;\">\n",
       "      <th></th>\n",
       "      <th>playerID</th>\n",
       "      <th>yearID</th>\n",
       "      <th>batting_average</th>\n",
       "    </tr>\n",
       "  </thead>\n",
       "  <tbody>\n",
       "    <tr>\n",
       "      <th>0</th>\n",
       "      <td>aberal01</td>\n",
       "      <td>1957</td>\n",
       "      <td>1.0</td>\n",
       "    </tr>\n",
       "    <tr>\n",
       "      <th>1</th>\n",
       "      <td>abernte02</td>\n",
       "      <td>1960</td>\n",
       "      <td>1.0</td>\n",
       "    </tr>\n",
       "    <tr>\n",
       "      <th>2</th>\n",
       "      <td>abramge01</td>\n",
       "      <td>1923</td>\n",
       "      <td>1.0</td>\n",
       "    </tr>\n",
       "    <tr>\n",
       "      <th>3</th>\n",
       "      <td>acklefr01</td>\n",
       "      <td>1964</td>\n",
       "      <td>1.0</td>\n",
       "    </tr>\n",
       "    <tr>\n",
       "      <th>4</th>\n",
       "      <td>alanirj01</td>\n",
       "      <td>2019</td>\n",
       "      <td>1.0</td>\n",
       "    </tr>\n",
       "  </tbody>\n",
       "</table>\n",
       "</div>"
      ],
      "text/plain": [
       "    playerID  yearID  batting_average\n",
       "0   aberal01    1957              1.0\n",
       "1  abernte02    1960              1.0\n",
       "2  abramge01    1923              1.0\n",
       "3  acklefr01    1964              1.0\n",
       "4  alanirj01    2019              1.0"
      ]
     },
     "execution_count": 31,
     "metadata": {},
     "output_type": "execute_result"
    }
   ],
   "source": [
    "pd.read_sql_query(q2_1, db)"
   ]
  },
  {
   "cell_type": "code",
   "execution_count": null,
   "id": "33477285",
   "metadata": {},
   "outputs": [],
   "source": [
    "q2_2 = q2_1.replace('AB > 0', 'AB > 9')"
   ]
  },
  {
   "cell_type": "code",
   "execution_count": 33,
   "id": "ea54719f",
   "metadata": {},
   "outputs": [
    {
     "data": {
      "application/vnd.microsoft.datawrangler.viewer.v0+json": {
       "columns": [
        {
         "name": "index",
         "rawType": "int64",
         "type": "integer"
        },
        {
         "name": "playerID",
         "rawType": "object",
         "type": "string"
        },
        {
         "name": "yearID",
         "rawType": "int64",
         "type": "integer"
        },
        {
         "name": "batting_average",
         "rawType": "float64",
         "type": "float"
        }
       ],
       "conversionMethod": "pd.DataFrame",
       "ref": "54dc5851-e426-4083-8058-74b142bc19ce",
       "rows": [
        [
         "0",
         "nymanny01",
         "1974",
         "0.643"
        ],
        [
         "1",
         "carsoma01",
         "2013",
         "0.636"
        ],
        [
         "2",
         "silvech01",
         "1948",
         "0.571"
        ],
        [
         "3",
         "puccige01",
         "1930",
         "0.563"
        ],
        [
         "4",
         "applepe01",
         "1927",
         "0.545"
        ]
       ],
       "shape": {
        "columns": 3,
        "rows": 5
       }
      },
      "text/html": [
       "<div>\n",
       "<style scoped>\n",
       "    .dataframe tbody tr th:only-of-type {\n",
       "        vertical-align: middle;\n",
       "    }\n",
       "\n",
       "    .dataframe tbody tr th {\n",
       "        vertical-align: top;\n",
       "    }\n",
       "\n",
       "    .dataframe thead th {\n",
       "        text-align: right;\n",
       "    }\n",
       "</style>\n",
       "<table border=\"1\" class=\"dataframe\">\n",
       "  <thead>\n",
       "    <tr style=\"text-align: right;\">\n",
       "      <th></th>\n",
       "      <th>playerID</th>\n",
       "      <th>yearID</th>\n",
       "      <th>batting_average</th>\n",
       "    </tr>\n",
       "  </thead>\n",
       "  <tbody>\n",
       "    <tr>\n",
       "      <th>0</th>\n",
       "      <td>nymanny01</td>\n",
       "      <td>1974</td>\n",
       "      <td>0.643</td>\n",
       "    </tr>\n",
       "    <tr>\n",
       "      <th>1</th>\n",
       "      <td>carsoma01</td>\n",
       "      <td>2013</td>\n",
       "      <td>0.636</td>\n",
       "    </tr>\n",
       "    <tr>\n",
       "      <th>2</th>\n",
       "      <td>silvech01</td>\n",
       "      <td>1948</td>\n",
       "      <td>0.571</td>\n",
       "    </tr>\n",
       "    <tr>\n",
       "      <th>3</th>\n",
       "      <td>puccige01</td>\n",
       "      <td>1930</td>\n",
       "      <td>0.563</td>\n",
       "    </tr>\n",
       "    <tr>\n",
       "      <th>4</th>\n",
       "      <td>applepe01</td>\n",
       "      <td>1927</td>\n",
       "      <td>0.545</td>\n",
       "    </tr>\n",
       "  </tbody>\n",
       "</table>\n",
       "</div>"
      ],
      "text/plain": [
       "    playerID  yearID  batting_average\n",
       "0  nymanny01    1974            0.643\n",
       "1  carsoma01    2013            0.636\n",
       "2  silvech01    1948            0.571\n",
       "3  puccige01    1930            0.563\n",
       "4  applepe01    1927            0.545"
      ]
     },
     "execution_count": 33,
     "metadata": {},
     "output_type": "execute_result"
    }
   ],
   "source": [
    "pd.read_sql_query(q2_2, db)"
   ]
  },
  {
   "cell_type": "code",
   "execution_count": 45,
   "id": "cd2c05aa",
   "metadata": {},
   "outputs": [],
   "source": [
    "q2_3 =  q2_1.replace('yearID, ', '')\\\n",
    "            .replace('H ', 'sum(H) ')\\\n",
    "            .replace('AB,', 'sum(AB),')\\\n",
    "            .replace('batting\\n','batting\\ngroup by playerID\\n')\\\n",
    "            .replace('where AB > 0', 'having sum(AB) > 100')"
   ]
  },
  {
   "cell_type": "code",
   "execution_count": 46,
   "id": "941a3cec",
   "metadata": {},
   "outputs": [
    {
     "name": "stdout",
     "output_type": "stream",
     "text": [
      "\n",
      "select playerID, round(cast(sum(H) as float) / sum(AB), 3) as batting_average\n",
      "from batting\n",
      "group by playerID\n",
      "having sum(AB) > 100\n",
      "order by batting_average desc, playerID asc\n",
      "limit 5;\n",
      "\n"
     ]
    }
   ],
   "source": [
    "print(q2_3)"
   ]
  },
  {
   "cell_type": "code",
   "execution_count": 47,
   "id": "b023455d",
   "metadata": {},
   "outputs": [
    {
     "data": {
      "application/vnd.microsoft.datawrangler.viewer.v0+json": {
       "columns": [
        {
         "name": "index",
         "rawType": "int64",
         "type": "integer"
        },
        {
         "name": "playerID",
         "rawType": "object",
         "type": "string"
        },
        {
         "name": "batting_average",
         "rawType": "float64",
         "type": "float"
        }
       ],
       "conversionMethod": "pd.DataFrame",
       "ref": "d0b8fa63-6461-499f-921c-197e68d1d6e7",
       "rows": [
        [
         "0",
         "cobbty01",
         "0.366"
        ],
        [
         "1",
         "barnero01",
         "0.36"
        ],
        [
         "2",
         "hornsro01",
         "0.358"
        ],
        [
         "3",
         "jacksjo01",
         "0.356"
        ],
        [
         "4",
         "meyerle01",
         "0.356"
        ]
       ],
       "shape": {
        "columns": 2,
        "rows": 5
       }
      },
      "text/html": [
       "<div>\n",
       "<style scoped>\n",
       "    .dataframe tbody tr th:only-of-type {\n",
       "        vertical-align: middle;\n",
       "    }\n",
       "\n",
       "    .dataframe tbody tr th {\n",
       "        vertical-align: top;\n",
       "    }\n",
       "\n",
       "    .dataframe thead th {\n",
       "        text-align: right;\n",
       "    }\n",
       "</style>\n",
       "<table border=\"1\" class=\"dataframe\">\n",
       "  <thead>\n",
       "    <tr style=\"text-align: right;\">\n",
       "      <th></th>\n",
       "      <th>playerID</th>\n",
       "      <th>batting_average</th>\n",
       "    </tr>\n",
       "  </thead>\n",
       "  <tbody>\n",
       "    <tr>\n",
       "      <th>0</th>\n",
       "      <td>cobbty01</td>\n",
       "      <td>0.366</td>\n",
       "    </tr>\n",
       "    <tr>\n",
       "      <th>1</th>\n",
       "      <td>barnero01</td>\n",
       "      <td>0.360</td>\n",
       "    </tr>\n",
       "    <tr>\n",
       "      <th>2</th>\n",
       "      <td>hornsro01</td>\n",
       "      <td>0.358</td>\n",
       "    </tr>\n",
       "    <tr>\n",
       "      <th>3</th>\n",
       "      <td>jacksjo01</td>\n",
       "      <td>0.356</td>\n",
       "    </tr>\n",
       "    <tr>\n",
       "      <th>4</th>\n",
       "      <td>meyerle01</td>\n",
       "      <td>0.356</td>\n",
       "    </tr>\n",
       "  </tbody>\n",
       "</table>\n",
       "</div>"
      ],
      "text/plain": [
       "    playerID  batting_average\n",
       "0   cobbty01            0.366\n",
       "1  barnero01            0.360\n",
       "2  hornsro01            0.358\n",
       "3  jacksjo01            0.356\n",
       "4  meyerle01            0.356"
      ]
     },
     "execution_count": 47,
     "metadata": {},
     "output_type": "execute_result"
    }
   ],
   "source": [
    "pd.read_sql_query(q2_3, db)"
   ]
  },
  {
   "cell_type": "markdown",
   "id": "a4c76d9f",
   "metadata": {},
   "source": [
    "# Q3"
   ]
  },
  {
   "cell_type": "code",
   "execution_count": 48,
   "id": "012ab535",
   "metadata": {},
   "outputs": [],
   "source": [
    "q3 = '''\n",
    "select \n",
    "    yearID,\n",
    "    sum(case when teamID = 'NYA' then HR else 0 end) as yankees_hr,\n",
    "    sum(case when teamID = 'BOS' then HR else 0 end) as redsox_hr\n",
    "from teams\n",
    "where teamID in ('NYA', 'BOS')\n",
    "group by yearID\n",
    "having sum(case when teamID = 'NYA' then HR else 0 end) > 0\n",
    "   OR sum(case when teamID = 'BOS' then HR else 0 end) > 0\n",
    "order by yearID;\n",
    "'''"
   ]
  },
  {
   "cell_type": "code",
   "execution_count": 67,
   "id": "4e4b30fd",
   "metadata": {},
   "outputs": [
    {
     "data": {
      "application/vnd.microsoft.datawrangler.viewer.v0+json": {
       "columns": [
        {
         "name": "index",
         "rawType": "int64",
         "type": "integer"
        },
        {
         "name": "yearID",
         "rawType": "int64",
         "type": "integer"
        },
        {
         "name": "yankees_hr",
         "rawType": "int64",
         "type": "integer"
        },
        {
         "name": "redsox_hr",
         "rawType": "int64",
         "type": "integer"
        }
       ],
       "conversionMethod": "pd.DataFrame",
       "ref": "735cd694-9dc3-487c-a15f-d989880338c1",
       "rows": [
        [
         "0",
         "1901",
         "0",
         "37"
        ],
        [
         "1",
         "1902",
         "0",
         "42"
        ],
        [
         "2",
         "1903",
         "18",
         "48"
        ],
        [
         "3",
         "1904",
         "27",
         "26"
        ],
        [
         "4",
         "1905",
         "23",
         "29"
        ],
        [
         "5",
         "1906",
         "17",
         "13"
        ],
        [
         "6",
         "1907",
         "15",
         "18"
        ],
        [
         "7",
         "1908",
         "13",
         "14"
        ],
        [
         "8",
         "1909",
         "16",
         "20"
        ],
        [
         "9",
         "1910",
         "20",
         "43"
        ],
        [
         "10",
         "1911",
         "25",
         "35"
        ],
        [
         "11",
         "1912",
         "18",
         "29"
        ],
        [
         "12",
         "1913",
         "8",
         "17"
        ],
        [
         "13",
         "1914",
         "12",
         "18"
        ],
        [
         "14",
         "1915",
         "31",
         "14"
        ],
        [
         "15",
         "1916",
         "35",
         "14"
        ],
        [
         "16",
         "1917",
         "27",
         "14"
        ],
        [
         "17",
         "1918",
         "20",
         "15"
        ],
        [
         "18",
         "1919",
         "45",
         "33"
        ],
        [
         "19",
         "1920",
         "115",
         "22"
        ],
        [
         "20",
         "1921",
         "134",
         "17"
        ],
        [
         "21",
         "1922",
         "95",
         "45"
        ],
        [
         "22",
         "1923",
         "105",
         "34"
        ],
        [
         "23",
         "1924",
         "98",
         "30"
        ],
        [
         "24",
         "1925",
         "110",
         "41"
        ],
        [
         "25",
         "1926",
         "121",
         "32"
        ],
        [
         "26",
         "1927",
         "158",
         "28"
        ],
        [
         "27",
         "1928",
         "133",
         "38"
        ],
        [
         "28",
         "1929",
         "142",
         "28"
        ],
        [
         "29",
         "1930",
         "152",
         "47"
        ],
        [
         "30",
         "1931",
         "155",
         "37"
        ],
        [
         "31",
         "1932",
         "160",
         "53"
        ],
        [
         "32",
         "1933",
         "144",
         "50"
        ],
        [
         "33",
         "1934",
         "135",
         "51"
        ],
        [
         "34",
         "1935",
         "104",
         "69"
        ],
        [
         "35",
         "1936",
         "182",
         "86"
        ],
        [
         "36",
         "1937",
         "174",
         "100"
        ],
        [
         "37",
         "1938",
         "174",
         "98"
        ],
        [
         "38",
         "1939",
         "166",
         "124"
        ],
        [
         "39",
         "1940",
         "155",
         "145"
        ],
        [
         "40",
         "1941",
         "151",
         "124"
        ],
        [
         "41",
         "1942",
         "108",
         "103"
        ],
        [
         "42",
         "1943",
         "100",
         "57"
        ],
        [
         "43",
         "1944",
         "96",
         "69"
        ],
        [
         "44",
         "1945",
         "93",
         "50"
        ],
        [
         "45",
         "1946",
         "136",
         "109"
        ],
        [
         "46",
         "1947",
         "115",
         "103"
        ],
        [
         "47",
         "1948",
         "139",
         "121"
        ],
        [
         "48",
         "1949",
         "115",
         "131"
        ],
        [
         "49",
         "1950",
         "159",
         "161"
        ]
       ],
       "shape": {
        "columns": 3,
        "rows": 119
       }
      },
      "text/html": [
       "<div>\n",
       "<style scoped>\n",
       "    .dataframe tbody tr th:only-of-type {\n",
       "        vertical-align: middle;\n",
       "    }\n",
       "\n",
       "    .dataframe tbody tr th {\n",
       "        vertical-align: top;\n",
       "    }\n",
       "\n",
       "    .dataframe thead th {\n",
       "        text-align: right;\n",
       "    }\n",
       "</style>\n",
       "<table border=\"1\" class=\"dataframe\">\n",
       "  <thead>\n",
       "    <tr style=\"text-align: right;\">\n",
       "      <th></th>\n",
       "      <th>yearID</th>\n",
       "      <th>yankees_hr</th>\n",
       "      <th>redsox_hr</th>\n",
       "    </tr>\n",
       "  </thead>\n",
       "  <tbody>\n",
       "    <tr>\n",
       "      <th>0</th>\n",
       "      <td>1901</td>\n",
       "      <td>0</td>\n",
       "      <td>37</td>\n",
       "    </tr>\n",
       "    <tr>\n",
       "      <th>1</th>\n",
       "      <td>1902</td>\n",
       "      <td>0</td>\n",
       "      <td>42</td>\n",
       "    </tr>\n",
       "    <tr>\n",
       "      <th>2</th>\n",
       "      <td>1903</td>\n",
       "      <td>18</td>\n",
       "      <td>48</td>\n",
       "    </tr>\n",
       "    <tr>\n",
       "      <th>3</th>\n",
       "      <td>1904</td>\n",
       "      <td>27</td>\n",
       "      <td>26</td>\n",
       "    </tr>\n",
       "    <tr>\n",
       "      <th>4</th>\n",
       "      <td>1905</td>\n",
       "      <td>23</td>\n",
       "      <td>29</td>\n",
       "    </tr>\n",
       "    <tr>\n",
       "      <th>...</th>\n",
       "      <td>...</td>\n",
       "      <td>...</td>\n",
       "      <td>...</td>\n",
       "    </tr>\n",
       "    <tr>\n",
       "      <th>114</th>\n",
       "      <td>2015</td>\n",
       "      <td>212</td>\n",
       "      <td>161</td>\n",
       "    </tr>\n",
       "    <tr>\n",
       "      <th>115</th>\n",
       "      <td>2016</td>\n",
       "      <td>183</td>\n",
       "      <td>208</td>\n",
       "    </tr>\n",
       "    <tr>\n",
       "      <th>116</th>\n",
       "      <td>2017</td>\n",
       "      <td>241</td>\n",
       "      <td>168</td>\n",
       "    </tr>\n",
       "    <tr>\n",
       "      <th>117</th>\n",
       "      <td>2018</td>\n",
       "      <td>267</td>\n",
       "      <td>208</td>\n",
       "    </tr>\n",
       "    <tr>\n",
       "      <th>118</th>\n",
       "      <td>2019</td>\n",
       "      <td>306</td>\n",
       "      <td>245</td>\n",
       "    </tr>\n",
       "  </tbody>\n",
       "</table>\n",
       "<p>119 rows × 3 columns</p>\n",
       "</div>"
      ],
      "text/plain": [
       "     yearID  yankees_hr  redsox_hr\n",
       "0      1901           0         37\n",
       "1      1902           0         42\n",
       "2      1903          18         48\n",
       "3      1904          27         26\n",
       "4      1905          23         29\n",
       "..      ...         ...        ...\n",
       "114    2015         212        161\n",
       "115    2016         183        208\n",
       "116    2017         241        168\n",
       "117    2018         267        208\n",
       "118    2019         306        245\n",
       "\n",
       "[119 rows x 3 columns]"
      ]
     },
     "execution_count": 67,
     "metadata": {},
     "output_type": "execute_result"
    }
   ],
   "source": [
    "df = pd.read_sql_query(q3, db)\n",
    "df"
   ]
  },
  {
   "cell_type": "code",
   "execution_count": 77,
   "id": "cf353f91",
   "metadata": {},
   "outputs": [
    {
     "data": {
      "text/html": [
       "\n",
       "            <div id=\"Za0kSn\"></div>\n",
       "            <script type=\"text/javascript\" data-lets-plot-script=\"library\">\n",
       "                if(!window.letsPlotCallQueue) {\n",
       "                    window.letsPlotCallQueue = [];\n",
       "                }; \n",
       "                window.letsPlotCall = function(f) {\n",
       "                    window.letsPlotCallQueue.push(f);\n",
       "                };\n",
       "                (function() {\n",
       "                    var script = document.createElement(\"script\");\n",
       "                    script.type = \"text/javascript\";\n",
       "                    script.src = \"https://cdn.jsdelivr.net/gh/JetBrains/lets-plot@v4.6.2/js-package/distr/lets-plot.min.js\";\n",
       "                    script.onload = function() {\n",
       "                        window.letsPlotCall = function(f) {f();};\n",
       "                        window.letsPlotCallQueue.forEach(function(f) {f();});\n",
       "                        window.letsPlotCallQueue = [];\n",
       "                        \n",
       "                    };\n",
       "                    script.onerror = function(event) {\n",
       "                        window.letsPlotCall = function(f) {};    // noop\n",
       "                        window.letsPlotCallQueue = [];\n",
       "                        var div = document.createElement(\"div\");\n",
       "                        div.style.color = 'darkred';\n",
       "                        div.textContent = 'Error loading Lets-Plot JS';\n",
       "                        document.getElementById(\"Za0kSn\").appendChild(div);\n",
       "                    };\n",
       "                    var e = document.getElementById(\"Za0kSn\");\n",
       "                    e.appendChild(script);\n",
       "                })()\n",
       "            </script>\n",
       "            "
      ]
     },
     "metadata": {},
     "output_type": "display_data"
    },
    {
     "data": {
      "text/html": [
       "   <div id=\"7u25gR\"></div>\n",
       "   <script type=\"text/javascript\" data-lets-plot-script=\"plot\">\n",
       "   \n",
       "   (function() {\n",
       "   // ----------\n",
       "   \n",
       "   const forceImmediateRender = false;\n",
       "   const responsive = false;\n",
       "   \n",
       "   let sizing = {\n",
       "       width_mode: \"MIN\",\n",
       "       height_mode: \"SCALED\",\n",
       "       width: null, \n",
       "       height: null \n",
       "   };\n",
       "   \n",
       "   const preferredWidth = document.body.dataset.letsPlotPreferredWidth;\n",
       "   if (preferredWidth !== undefined) {\n",
       "       sizing = {\n",
       "           width_mode: 'FIXED',\n",
       "           height_mode: 'SCALED',\n",
       "           width: parseFloat(preferredWidth)\n",
       "       };\n",
       "   }\n",
       "   \n",
       "   const containerDiv = document.getElementById(\"7u25gR\");\n",
       "   let fig = null;\n",
       "   \n",
       "   function renderPlot() {\n",
       "       if (fig === null) {\n",
       "           const plotSpec = {\n",
       "\"data\":{\n",
       "\"yearID\":[1901.0,1902.0,1903.0,1904.0,1905.0,1906.0,1907.0,1908.0,1909.0,1910.0,1911.0,1912.0,1913.0,1914.0,1915.0,1916.0,1917.0,1918.0,1919.0,1920.0,1921.0,1922.0,1923.0,1924.0,1925.0,1926.0,1927.0,1928.0,1929.0,1930.0,1931.0,1932.0,1933.0,1934.0,1935.0,1936.0,1937.0,1938.0,1939.0,1940.0,1941.0,1942.0,1943.0,1944.0,1945.0,1946.0,1947.0,1948.0,1949.0,1950.0,1951.0,1952.0,1953.0,1954.0,1955.0,1956.0,1957.0,1958.0,1959.0,1960.0,1961.0,1962.0,1963.0,1964.0,1965.0,1966.0,1967.0,1968.0,1969.0,1970.0,1971.0,1972.0,1973.0,1974.0,1975.0,1976.0,1977.0,1978.0,1979.0,1980.0,1981.0,1982.0,1983.0,1984.0,1985.0,1986.0,1987.0,1988.0,1989.0,1990.0,1991.0,1992.0,1993.0,1994.0,1995.0,1996.0,1997.0,1998.0,1999.0,2000.0,2001.0,2002.0,2003.0,2004.0,2005.0,2006.0,2007.0,2008.0,2009.0,2010.0,2011.0,2012.0,2013.0,2014.0,2015.0,2016.0,2017.0,2018.0,2019.0],\n",
       "\"hr_diff\":[-37.0,-42.0,-30.0,1.0,-6.0,4.0,-3.0,-1.0,-4.0,-23.0,-10.0,-11.0,-9.0,-6.0,17.0,21.0,13.0,5.0,12.0,93.0,117.0,50.0,71.0,68.0,69.0,89.0,130.0,95.0,114.0,105.0,118.0,107.0,94.0,84.0,35.0,96.0,74.0,76.0,42.0,10.0,27.0,5.0,43.0,27.0,43.0,27.0,12.0,18.0,-16.0,-2.0,13.0,16.0,38.0,10.0,38.0,51.0,-8.0,9.0,28.0,69.0,128.0,53.0,17.0,-24.0,-16.0,17.0,-58.0,-16.0,-103.0,-92.0,-64.0,-21.0,-16.0,-8.0,-24.0,-14.0,-29.0,-47.0,-44.0,27.0,10.0,25.0,11.0,-51.0,14.0,44.0,22.0,24.0,22.0,41.0,21.0,79.0,64.0,19.0,-53.0,-47.0,-24.0,2.0,17.0,38.0,5.0,46.0,-8.0,20.0,30.0,18.0,35.0,7.0,32.0,-10.0,19.0,80.0,-34.0,24.0,51.0,-25.0,73.0,59.0,61.0]\n",
       "},\n",
       "\"mapping\":{\n",
       "\"x\":\"yearID\",\n",
       "\"y\":\"hr_diff\"\n",
       "},\n",
       "\"data_meta\":{\n",
       "\"series_annotations\":[{\n",
       "\"type\":\"int\",\n",
       "\"column\":\"yearID\"\n",
       "},{\n",
       "\"type\":\"int\",\n",
       "\"column\":\"yankees_hr\"\n",
       "},{\n",
       "\"type\":\"int\",\n",
       "\"column\":\"redsox_hr\"\n",
       "},{\n",
       "\"type\":\"int\",\n",
       "\"column\":\"hr_diff\"\n",
       "}]\n",
       "},\n",
       "\"ggtitle\":{\n",
       "\"text\":\"Yankees vs Red Sox: Yearly Home Run Difference\"\n",
       "},\n",
       "\"guides\":{\n",
       "\"x\":{\n",
       "\"title\":\"Year\"\n",
       "},\n",
       "\"y\":{\n",
       "\"title\":\"HR Difference\\nYankees - Red Sox\"\n",
       "}\n",
       "},\n",
       "\"kind\":\"plot\",\n",
       "\"scales\":[{\n",
       "\"aesthetic\":\"x\",\n",
       "\"format\":\"d\"\n",
       "}],\n",
       "\"layers\":[{\n",
       "\"geom\":\"rect\",\n",
       "\"mapping\":{\n",
       "},\n",
       "\"inherit_aes\":false,\n",
       "\"data_meta\":{\n",
       "},\n",
       "\"xmin\":1896.0,\n",
       "\"xmax\":2024.0,\n",
       "\"ymin\":-113.0,\n",
       "\"ymax\":0.0,\n",
       "\"fill\":\"rgba(26,43,78,.8)\",\n",
       "\"data\":{\n",
       "}\n",
       "},{\n",
       "\"geom\":\"rect\",\n",
       "\"mapping\":{\n",
       "},\n",
       "\"inherit_aes\":false,\n",
       "\"data_meta\":{\n",
       "},\n",
       "\"xmin\":1896.0,\n",
       "\"xmax\":2024.0,\n",
       "\"ymin\":0.0,\n",
       "\"ymax\":140.0,\n",
       "\"fill\":\"rgba(221,51,61,.8)\",\n",
       "\"data\":{\n",
       "}\n",
       "},{\n",
       "\"geom\":\"line\",\n",
       "\"mapping\":{\n",
       "},\n",
       "\"data_meta\":{\n",
       "},\n",
       "\"color\":\"white\",\n",
       "\"data\":{\n",
       "}\n",
       "},{\n",
       "\"geom\":\"hline\",\n",
       "\"mapping\":{\n",
       "},\n",
       "\"data_meta\":{\n",
       "},\n",
       "\"yintercept\":0.0,\n",
       "\"linetype\":\"dashed\",\n",
       "\"color\":\"white\",\n",
       "\"data\":{\n",
       "}\n",
       "}],\n",
       "\"metainfo_list\":[],\n",
       "\"spec_id\":\"24\"\n",
       "};\n",
       "           window.letsPlotCall(function() { fig = LetsPlot.buildPlotFromProcessedSpecs(plotSpec, containerDiv, sizing); });\n",
       "       } else {\n",
       "           fig.updateView({});\n",
       "       }\n",
       "   }\n",
       "   \n",
       "   const renderImmediately = \n",
       "       forceImmediateRender || (\n",
       "           sizing.width_mode === 'FIXED' && \n",
       "           (sizing.height_mode === 'FIXED' || sizing.height_mode === 'SCALED')\n",
       "       );\n",
       "   \n",
       "   if (renderImmediately) {\n",
       "       renderPlot();\n",
       "   }\n",
       "   \n",
       "   if (!renderImmediately || responsive) {\n",
       "       // Set up observer for initial sizing or continuous monitoring\n",
       "       var observer = new ResizeObserver(function(entries) {\n",
       "           for (let entry of entries) {\n",
       "               if (entry.contentBoxSize && \n",
       "                   entry.contentBoxSize[0].inlineSize > 0) {\n",
       "                   if (!responsive && observer) {\n",
       "                       observer.disconnect();\n",
       "                       observer = null;\n",
       "                   }\n",
       "                   renderPlot();\n",
       "                   if (!responsive) {\n",
       "                       break;\n",
       "                   }\n",
       "               }\n",
       "           }\n",
       "       });\n",
       "       \n",
       "       observer.observe(containerDiv);\n",
       "   }\n",
       "   \n",
       "   // ----------\n",
       "   })();\n",
       "   \n",
       "   </script>"
      ],
      "text/plain": [
       "<lets_plot.plot.core.PlotSpec at 0x2b0c780ef90>"
      ]
     },
     "execution_count": 77,
     "metadata": {},
     "output_type": "execute_result"
    }
   ],
   "source": [
    "LetsPlot.setup_html()\n",
    "\n",
    "df['hr_diff'] = df['yankees_hr'] - df['redsox_hr']\n",
    "\n",
    "# Get min/max for full rectangle coverage\n",
    "x_min = df['yearID'].min() - 5\n",
    "x_max = df['yearID'].max() + 5\n",
    "y_min = df['hr_diff'].min() - 10\n",
    "y_max = df['hr_diff'].max() + 10\n",
    "\n",
    "ggplot(df, aes(x='yearID', y='hr_diff')) + \\\n",
    "    geom_rect(xmin=x_min, xmax=x_max, ymin=y_min, ymax=0, fill='rgba(26,43,78,.8)', inherit_aes=False) + \\\n",
    "    geom_rect(xmin=x_min, xmax=x_max, ymin=0, ymax=y_max, fill='rgba(221,51,61,.8)', inherit_aes=False) + \\\n",
    "    geom_line(color='white') + \\\n",
    "    geom_hline(yintercept=0, linetype='dashed', color='white') + \\\n",
    "    ggtitle('Yankees vs Red Sox: Yearly Home Run Difference') + \\\n",
    "    xlab('Year') + \\\n",
    "    ylab('HR Difference\\nYankees - Red Sox') + \\\n",
    "    scale_x_continuous(format='d')"
   ]
  },
  {
   "cell_type": "markdown",
   "id": "316c014f",
   "metadata": {},
   "source": [
    "# SQ1"
   ]
  },
  {
   "cell_type": "code",
   "execution_count": 78,
   "id": "364ec5b6",
   "metadata": {},
   "outputs": [],
   "source": [
    "sq1 = '''\n",
    "with primary_positions as (\n",
    "    select playerID, yearID, POS,\n",
    "           row_number() over (\n",
    "               partition by playerID, yearID\n",
    "               order by sum(G) desc\n",
    "           ) as pos_rank\n",
    "    from fielding\n",
    "    group by playerID, yearID, POS\n",
    "),\n",
    "main_position as (\n",
    "    select playerID, yearID, POS\n",
    "    from primary_positions\n",
    "    where pos_rank = 1\n",
    "),\n",
    "position_salaries as (\n",
    "    select \n",
    "        mp.POS as position,\n",
    "        s.salary,\n",
    "        s.playerID\n",
    "    from main_position mp\n",
    "    join salaries s \n",
    "        ON mp.playerID = s.playerID AND mp.yearID = s.yearID\n",
    ")\n",
    "select \n",
    "    position,\n",
    "    round(avg(salary), 2) as average_salary,\n",
    "    count(distinct playerID) as total_players,\n",
    "    max(salary) as highest_salary,\n",
    "    case \n",
    "        when avg(salary) > 3000000 then 'High Salary'\n",
    "        when avg(salary) between 2000000 AND 3000000 then 'Medium Salary'\n",
    "        else 'Low Salary'\n",
    "    end as salary_category\n",
    "from position_salaries\n",
    "group by position\n",
    "order by average_salary desc;\n",
    "'''"
   ]
  },
  {
   "cell_type": "code",
   "execution_count": 79,
   "id": "01a9bc39",
   "metadata": {},
   "outputs": [
    {
     "data": {
      "application/vnd.microsoft.datawrangler.viewer.v0+json": {
       "columns": [
        {
         "name": "index",
         "rawType": "int64",
         "type": "integer"
        },
        {
         "name": "position",
         "rawType": "object",
         "type": "string"
        },
        {
         "name": "average_salary",
         "rawType": "float64",
         "type": "float"
        },
        {
         "name": "total_players",
         "rawType": "int64",
         "type": "integer"
        },
        {
         "name": "highest_salary",
         "rawType": "float64",
         "type": "float"
        },
        {
         "name": "salary_category",
         "rawType": "object",
         "type": "string"
        }
       ],
       "conversionMethod": "pd.DataFrame",
       "ref": "d7e8dd80-dacf-4aef-bad9-fc67ca1b52fd",
       "rows": [
        [
         "0",
         "1B",
         "3380780.3",
         "454",
         "28000000.0",
         "High Salary"
        ],
        [
         "1",
         "OF",
         "2396919.04",
         "1128",
         "27328046.0",
         "Medium Salary"
        ],
        [
         "2",
         "3B",
         "2323326.28",
         "490",
         "33000000.0",
         "Medium Salary"
        ],
        [
         "3",
         "SS",
         "1973603.73",
         "377",
         "22600000.0",
         "Low Salary"
        ],
        [
         "4",
         "P",
         "1938130.8",
         "2556",
         "33000000.0",
         "Low Salary"
        ],
        [
         "5",
         "2B",
         "1821073.9",
         "478",
         "24000000.0",
         "Low Salary"
        ],
        [
         "6",
         "C",
         "1430337.51",
         "403",
         "23000000.0",
         "Low Salary"
        ]
       ],
       "shape": {
        "columns": 5,
        "rows": 7
       }
      },
      "text/html": [
       "<div>\n",
       "<style scoped>\n",
       "    .dataframe tbody tr th:only-of-type {\n",
       "        vertical-align: middle;\n",
       "    }\n",
       "\n",
       "    .dataframe tbody tr th {\n",
       "        vertical-align: top;\n",
       "    }\n",
       "\n",
       "    .dataframe thead th {\n",
       "        text-align: right;\n",
       "    }\n",
       "</style>\n",
       "<table border=\"1\" class=\"dataframe\">\n",
       "  <thead>\n",
       "    <tr style=\"text-align: right;\">\n",
       "      <th></th>\n",
       "      <th>position</th>\n",
       "      <th>average_salary</th>\n",
       "      <th>total_players</th>\n",
       "      <th>highest_salary</th>\n",
       "      <th>salary_category</th>\n",
       "    </tr>\n",
       "  </thead>\n",
       "  <tbody>\n",
       "    <tr>\n",
       "      <th>0</th>\n",
       "      <td>1B</td>\n",
       "      <td>3380780.30</td>\n",
       "      <td>454</td>\n",
       "      <td>28000000.0</td>\n",
       "      <td>High Salary</td>\n",
       "    </tr>\n",
       "    <tr>\n",
       "      <th>1</th>\n",
       "      <td>OF</td>\n",
       "      <td>2396919.04</td>\n",
       "      <td>1128</td>\n",
       "      <td>27328046.0</td>\n",
       "      <td>Medium Salary</td>\n",
       "    </tr>\n",
       "    <tr>\n",
       "      <th>2</th>\n",
       "      <td>3B</td>\n",
       "      <td>2323326.28</td>\n",
       "      <td>490</td>\n",
       "      <td>33000000.0</td>\n",
       "      <td>Medium Salary</td>\n",
       "    </tr>\n",
       "    <tr>\n",
       "      <th>3</th>\n",
       "      <td>SS</td>\n",
       "      <td>1973603.73</td>\n",
       "      <td>377</td>\n",
       "      <td>22600000.0</td>\n",
       "      <td>Low Salary</td>\n",
       "    </tr>\n",
       "    <tr>\n",
       "      <th>4</th>\n",
       "      <td>P</td>\n",
       "      <td>1938130.80</td>\n",
       "      <td>2556</td>\n",
       "      <td>33000000.0</td>\n",
       "      <td>Low Salary</td>\n",
       "    </tr>\n",
       "    <tr>\n",
       "      <th>5</th>\n",
       "      <td>2B</td>\n",
       "      <td>1821073.90</td>\n",
       "      <td>478</td>\n",
       "      <td>24000000.0</td>\n",
       "      <td>Low Salary</td>\n",
       "    </tr>\n",
       "    <tr>\n",
       "      <th>6</th>\n",
       "      <td>C</td>\n",
       "      <td>1430337.51</td>\n",
       "      <td>403</td>\n",
       "      <td>23000000.0</td>\n",
       "      <td>Low Salary</td>\n",
       "    </tr>\n",
       "  </tbody>\n",
       "</table>\n",
       "</div>"
      ],
      "text/plain": [
       "  position  average_salary  total_players  highest_salary salary_category\n",
       "0       1B      3380780.30            454      28000000.0     High Salary\n",
       "1       OF      2396919.04           1128      27328046.0   Medium Salary\n",
       "2       3B      2323326.28            490      33000000.0   Medium Salary\n",
       "3       SS      1973603.73            377      22600000.0      Low Salary\n",
       "4        P      1938130.80           2556      33000000.0      Low Salary\n",
       "5       2B      1821073.90            478      24000000.0      Low Salary\n",
       "6        C      1430337.51            403      23000000.0      Low Salary"
      ]
     },
     "execution_count": 79,
     "metadata": {},
     "output_type": "execute_result"
    }
   ],
   "source": [
    "pd.read_sql_query(sq1, db)"
   ]
  },
  {
   "cell_type": "markdown",
   "id": "0847f648",
   "metadata": {},
   "source": [
    "# SQ2"
   ]
  },
  {
   "cell_type": "code",
   "execution_count": null,
   "id": "cf446d44",
   "metadata": {},
   "outputs": [],
   "source": [
    "sq2 = '''\n",
    "with games_per_player_year as (\n",
    "    select playerID, yearID, sum(G_all) as total_games\n",
    "    from appearances\n",
    "    group by playerID, yearID\n",
    "),\n",
    "qualified_players as (\n",
    "    select playerID\n",
    "    from games_per_player_year\n",
    "    group by playerID\n",
    "    having sum(total_games) >= 10\n",
    "),\n",
    "career_span as (\n",
    "    select \n",
    "        qp.playerID,\n",
    "        min(gpy.yearID) as first_year,\n",
    "        max(gpy.yearID) as last_year,\n",
    "        max(gpy.yearID) - min(gpy.yearID) as career_length\n",
    "    from qualified_players qp\n",
    "    join games_per_player_year gpy on qp.playerID = gpy.playerID\n",
    "    group by qp.playerID\n",
    "),\n",
    "top_10_longest_careers as (\n",
    "    select *\n",
    "    from career_span\n",
    "    order by career_length desc\n",
    "    limit 10\n",
    ")\n",
    "select \n",
    "    c.playerID,\n",
    "    p.nameFirst as first_name,\n",
    "    p.nameLast as last_name,\n",
    "    c.career_length\n",
    "from top_10_longest_careers c\n",
    "join people p on c.playerID = p.playerID\n",
    "order by c.career_length desc;\n",
    "'''"
   ]
  },
  {
   "cell_type": "code",
   "execution_count": 85,
   "id": "b7239300",
   "metadata": {},
   "outputs": [
    {
     "data": {
      "application/vnd.microsoft.datawrangler.viewer.v0+json": {
       "columns": [
        {
         "name": "index",
         "rawType": "int64",
         "type": "integer"
        },
        {
         "name": "playerID",
         "rawType": "object",
         "type": "string"
        },
        {
         "name": "first_name",
         "rawType": "object",
         "type": "string"
        },
        {
         "name": "last_name",
         "rawType": "object",
         "type": "string"
        },
        {
         "name": "career_length",
         "rawType": "int64",
         "type": "integer"
        }
       ],
       "conversionMethod": "pd.DataFrame",
       "ref": "aed6fa97-e60f-41ae-8111-de7abbe3cf4e",
       "rows": [
        [
         "0",
         "altroni01",
         "Nick",
         "Altrock",
         "35"
        ],
        [
         "1",
         "orourji01",
         "Jim",
         "O'Rourke",
         "32"
        ],
        [
         "2",
         "minosmi01",
         "Minnie",
         "Minoso",
         "31"
        ],
        [
         "3",
         "olearch01",
         "Charley",
         "O'Leary",
         "30"
        ],
        [
         "4",
         "lathaar01",
         "Arlie",
         "Latham",
         "29"
        ],
        [
         "5",
         "mcguide01",
         "Deacon",
         "McGuire",
         "28"
        ],
        [
         "6",
         "eversjo01",
         "Johnny",
         "Evers",
         "27"
        ],
        [
         "7",
         "jennihu01",
         "Hughie",
         "Jennings",
         "27"
        ],
        [
         "8",
         "ryanno01",
         "Nolan",
         "Ryan",
         "27"
        ],
        [
         "9",
         "streega01",
         "Gabby",
         "Street",
         "27"
        ]
       ],
       "shape": {
        "columns": 4,
        "rows": 10
       }
      },
      "text/html": [
       "<div>\n",
       "<style scoped>\n",
       "    .dataframe tbody tr th:only-of-type {\n",
       "        vertical-align: middle;\n",
       "    }\n",
       "\n",
       "    .dataframe tbody tr th {\n",
       "        vertical-align: top;\n",
       "    }\n",
       "\n",
       "    .dataframe thead th {\n",
       "        text-align: right;\n",
       "    }\n",
       "</style>\n",
       "<table border=\"1\" class=\"dataframe\">\n",
       "  <thead>\n",
       "    <tr style=\"text-align: right;\">\n",
       "      <th></th>\n",
       "      <th>playerID</th>\n",
       "      <th>first_name</th>\n",
       "      <th>last_name</th>\n",
       "      <th>career_length</th>\n",
       "    </tr>\n",
       "  </thead>\n",
       "  <tbody>\n",
       "    <tr>\n",
       "      <th>0</th>\n",
       "      <td>altroni01</td>\n",
       "      <td>Nick</td>\n",
       "      <td>Altrock</td>\n",
       "      <td>35</td>\n",
       "    </tr>\n",
       "    <tr>\n",
       "      <th>1</th>\n",
       "      <td>orourji01</td>\n",
       "      <td>Jim</td>\n",
       "      <td>O'Rourke</td>\n",
       "      <td>32</td>\n",
       "    </tr>\n",
       "    <tr>\n",
       "      <th>2</th>\n",
       "      <td>minosmi01</td>\n",
       "      <td>Minnie</td>\n",
       "      <td>Minoso</td>\n",
       "      <td>31</td>\n",
       "    </tr>\n",
       "    <tr>\n",
       "      <th>3</th>\n",
       "      <td>olearch01</td>\n",
       "      <td>Charley</td>\n",
       "      <td>O'Leary</td>\n",
       "      <td>30</td>\n",
       "    </tr>\n",
       "    <tr>\n",
       "      <th>4</th>\n",
       "      <td>lathaar01</td>\n",
       "      <td>Arlie</td>\n",
       "      <td>Latham</td>\n",
       "      <td>29</td>\n",
       "    </tr>\n",
       "    <tr>\n",
       "      <th>5</th>\n",
       "      <td>mcguide01</td>\n",
       "      <td>Deacon</td>\n",
       "      <td>McGuire</td>\n",
       "      <td>28</td>\n",
       "    </tr>\n",
       "    <tr>\n",
       "      <th>6</th>\n",
       "      <td>eversjo01</td>\n",
       "      <td>Johnny</td>\n",
       "      <td>Evers</td>\n",
       "      <td>27</td>\n",
       "    </tr>\n",
       "    <tr>\n",
       "      <th>7</th>\n",
       "      <td>jennihu01</td>\n",
       "      <td>Hughie</td>\n",
       "      <td>Jennings</td>\n",
       "      <td>27</td>\n",
       "    </tr>\n",
       "    <tr>\n",
       "      <th>8</th>\n",
       "      <td>ryanno01</td>\n",
       "      <td>Nolan</td>\n",
       "      <td>Ryan</td>\n",
       "      <td>27</td>\n",
       "    </tr>\n",
       "    <tr>\n",
       "      <th>9</th>\n",
       "      <td>streega01</td>\n",
       "      <td>Gabby</td>\n",
       "      <td>Street</td>\n",
       "      <td>27</td>\n",
       "    </tr>\n",
       "  </tbody>\n",
       "</table>\n",
       "</div>"
      ],
      "text/plain": [
       "    playerID first_name last_name  career_length\n",
       "0  altroni01       Nick   Altrock             35\n",
       "1  orourji01        Jim  O'Rourke             32\n",
       "2  minosmi01     Minnie    Minoso             31\n",
       "3  olearch01    Charley   O'Leary             30\n",
       "4  lathaar01      Arlie    Latham             29\n",
       "5  mcguide01     Deacon   McGuire             28\n",
       "6  eversjo01     Johnny     Evers             27\n",
       "7  jennihu01     Hughie  Jennings             27\n",
       "8   ryanno01      Nolan      Ryan             27\n",
       "9  streega01      Gabby    Street             27"
      ]
     },
     "execution_count": 85,
     "metadata": {},
     "output_type": "execute_result"
    }
   ],
   "source": [
    "pd.read_sql_query(sq2, db)"
   ]
  },
  {
   "cell_type": "markdown",
   "id": "446801f9",
   "metadata": {},
   "source": [
    "# Quiz Questions"
   ]
  },
  {
   "cell_type": "code",
   "execution_count": 5,
   "id": "52bf403c",
   "metadata": {},
   "outputs": [],
   "source": [
    "qq1 = q2_1.replace('AB > 0', 'playerID = \\'addybo01\\'')"
   ]
  },
  {
   "cell_type": "code",
   "execution_count": 6,
   "id": "577e53c4",
   "metadata": {},
   "outputs": [
    {
     "data": {
      "application/vnd.microsoft.datawrangler.viewer.v0+json": {
       "columns": [
        {
         "name": "index",
         "rawType": "int64",
         "type": "integer"
        },
        {
         "name": "playerID",
         "rawType": "object",
         "type": "string"
        },
        {
         "name": "yearID",
         "rawType": "int64",
         "type": "integer"
        },
        {
         "name": "batting_average",
         "rawType": "float64",
         "type": "float"
        }
       ],
       "ref": "424c0702-10b7-4d2c-b82c-33ac54076e0c",
       "rows": [
        [
         "0",
         "addybo01",
         "1873",
         "0.355"
        ],
        [
         "1",
         "addybo01",
         "1873",
         "0.314"
        ],
        [
         "2",
         "addybo01",
         "1876",
         "0.282"
        ],
        [
         "3",
         "addybo01",
         "1877",
         "0.278"
        ],
        [
         "4",
         "addybo01",
         "1871",
         "0.271"
        ]
       ],
       "shape": {
        "columns": 3,
        "rows": 5
       }
      },
      "text/html": [
       "<div>\n",
       "<style scoped>\n",
       "    .dataframe tbody tr th:only-of-type {\n",
       "        vertical-align: middle;\n",
       "    }\n",
       "\n",
       "    .dataframe tbody tr th {\n",
       "        vertical-align: top;\n",
       "    }\n",
       "\n",
       "    .dataframe thead th {\n",
       "        text-align: right;\n",
       "    }\n",
       "</style>\n",
       "<table border=\"1\" class=\"dataframe\">\n",
       "  <thead>\n",
       "    <tr style=\"text-align: right;\">\n",
       "      <th></th>\n",
       "      <th>playerID</th>\n",
       "      <th>yearID</th>\n",
       "      <th>batting_average</th>\n",
       "    </tr>\n",
       "  </thead>\n",
       "  <tbody>\n",
       "    <tr>\n",
       "      <th>0</th>\n",
       "      <td>addybo01</td>\n",
       "      <td>1873</td>\n",
       "      <td>0.355</td>\n",
       "    </tr>\n",
       "    <tr>\n",
       "      <th>1</th>\n",
       "      <td>addybo01</td>\n",
       "      <td>1873</td>\n",
       "      <td>0.314</td>\n",
       "    </tr>\n",
       "    <tr>\n",
       "      <th>2</th>\n",
       "      <td>addybo01</td>\n",
       "      <td>1876</td>\n",
       "      <td>0.282</td>\n",
       "    </tr>\n",
       "    <tr>\n",
       "      <th>3</th>\n",
       "      <td>addybo01</td>\n",
       "      <td>1877</td>\n",
       "      <td>0.278</td>\n",
       "    </tr>\n",
       "    <tr>\n",
       "      <th>4</th>\n",
       "      <td>addybo01</td>\n",
       "      <td>1871</td>\n",
       "      <td>0.271</td>\n",
       "    </tr>\n",
       "  </tbody>\n",
       "</table>\n",
       "</div>"
      ],
      "text/plain": [
       "   playerID  yearID  batting_average\n",
       "0  addybo01    1873            0.355\n",
       "1  addybo01    1873            0.314\n",
       "2  addybo01    1876            0.282\n",
       "3  addybo01    1877            0.278\n",
       "4  addybo01    1871            0.271"
      ]
     },
     "execution_count": 6,
     "metadata": {},
     "output_type": "execute_result"
    }
   ],
   "source": [
    "pd.read_sql_query(qq1, db)"
   ]
  }
 ],
 "metadata": {
  "kernelspec": {
   "display_name": "Python 3",
   "language": "python",
   "name": "python3"
  },
  "language_info": {
   "codemirror_mode": {
    "name": "ipython",
    "version": 3
   },
   "file_extension": ".py",
   "mimetype": "text/x-python",
   "name": "python",
   "nbconvert_exporter": "python",
   "pygments_lexer": "ipython3",
   "version": "3.13.3"
  }
 },
 "nbformat": 4,
 "nbformat_minor": 5
}
